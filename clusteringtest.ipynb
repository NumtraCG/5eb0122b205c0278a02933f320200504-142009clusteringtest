{
 "cells": [
  {
   "cell_type": "markdown",
   "metadata": {},
   "source": [
    "***GENERATED CODE FOR clusteringtest PIPELINE***"
   ]
  },
  {
   "cell_type": "markdown",
   "metadata": {},
   "source": [
    "**CONNECTOR FUNCTIONS TO READ DATA FROM DATABRICKS FILESYSTEM**"
   ]
  },
  {
   "cell_type": "code",
   "execution_count": null,
   "metadata": {},
   "outputs": [],
   "source": [
    "import datetime\n",
    "import logging\n",
    "import warnings\n",
    "warnings.filterwarnings('ignore')\n",
    "logging.basicConfig(format='%(levelname)s:%(message)s', level=logging.INFO)\n",
    "\n",
    "\n",
    "class DBFSConnector:\n",
    "\n",
    "    def fetch(inStages, inStagesData, stageId, spark, config):\n",
    "        df = spark.read.\\\n",
    "            options(header='true' if eval(config)[\"is_header\"] == \"Use Header Line\" else 'false',\n",
    "                    inferschema='true',\n",
    "                    delimiter=eval(config)[\"delimiter\"])\\\n",
    "            .csv(eval(config)['url'])\n",
    "        display(df.limit(2).toPandas())\n",
    "        return df\n",
    "\n",
    "    def put(inStages, inStagesData, stageId, spark, config):\n",
    "        return inStagesData.write.format('csv').options(header='true' if eval(config)[\"is_header\"] == \"Use Header Line\" else 'false',\n",
    "                                                        delimiter=eval(config)[\"delimiter\"]).save((\"%s %s\") % (datetime.datetime.now().strftime(\"%Y-%m-%d %H.%M.%S\")+\"_\", eval(config)['url']))\n"
   ]
  },
  {
   "cell_type": "markdown",
   "metadata": {},
   "source": [
    "**TRANSFORMATIONS FUNCTIONS THAT WILL BE APPLIED ON DATA**"
   ]
  },
  {
   "cell_type": "code",
   "execution_count": null,
   "metadata": {},
   "outputs": [],
   "source": [
    "import json\n",
    "from pyspark.sql.functions import col, when\n",
    "from pyspark.sql.functions import mean, stddev, min, max, col\n",
    "\n",
    "\n",
    "class CleanseData:\n",
    "    # def __init__(self,df):\n",
    "    #     #print()\n",
    "\n",
    "    def replaceByMean(self, feature, df, mean_=-1):\n",
    "\n",
    "        meanValue = df.select(mean(col(feature.name)).alias(\n",
    "            'mean')).collect()[0][\"mean\"]\n",
    "        df.fillna(meanValue, subset=[feature.name])\n",
    "        df.withColumn(feature.name, when(col(feature.name) == \" \",\n",
    "                                         meanValue).otherwise(col(feature.name).cast(\"Integer\")))\n",
    "        return df\n",
    "\n",
    "    def replaceByMax(self, feature, df, max_=-1):\n",
    "        maxValue = df.select(max(col(feature.name)).alias('max')).collect()[\n",
    "            0][\"max\"]\n",
    "        df.fillna(maxValue, subset=[feature.name])\n",
    "        df = df.withColumn(feature.name,\n",
    "                           when(col(feature.name) == \" \", maxValue).otherwise(col(feature.name)))\n",
    "        return df\n",
    "\n",
    "    def replaceByMin(self, feature, df, min_=-1):\n",
    "        minValue = df.select(min(col(feature.name)).alias('min')).collect()[\n",
    "            0][\"min\"]\n",
    "        df.fillna(minValue, subset=[feature.name])\n",
    "        df = df.withColumn(feature.name,\n",
    "                           when(col(feature.name) == \" \", minValue).otherwise(col(feature.name)))\n",
    "        return df\n",
    "\n",
    "    def replaceByStandardDeviation(self, feature, df, stddev_=-1):\n",
    "        stddevValue = df.select(stddev(col(feature.name)).alias(\n",
    "            'stddev')).collect()[0][\"stddev\"]\n",
    "        df.fillna(stddevValue, subset=[feature.name])\n",
    "        df = df.withColumn(feature.name,\n",
    "                           when(col(feature.name) == \" \", stddevValue).otherwise(col(feature.name)))\n",
    "        return df\n",
    "\n",
    "    def replaceDateRandomly(self, feature, df):\n",
    "        fillValue = df.where(col(feature.name).isNotNull()\n",
    "                             ).head(1)[0][feature.name]\n",
    "        df.fillna(str(fillValue), subset=[feature.name])\n",
    "        df = df.withColumn(feature.name,\n",
    "                           when(col(feature.name) == \" \", fillValue).otherwise(col(feature.name)))\n",
    "        # print(\"CleanseData:replaceDateRandomly Schema : \", df.#printSchema())\n",
    "        return df\n",
    "\n",
    "    def replaceNullValues(self, fList, df):\n",
    "        featuresList = df.schema.fields\n",
    "        for featureObj in fList:\n",
    "            for feat in featuresList:\n",
    "                if featureObj[\"feature\"] in feat.name:\n",
    "                    featureName = feat\n",
    "                    if \"mean\" in featureObj[\"replaceby\"]:\n",
    "                        df = self.replaceByMean(featureName, df)\n",
    "                    elif \"max\" in featureObj[\"replaceby\"]:\n",
    "                        df = self.replaceByMax(featureName, df)\n",
    "                    elif \"min\" in featureObj[\"replaceby\"]:\n",
    "                        df = self.replaceByMin(featureName, df)\n",
    "                    elif \"stddev\" in featureObj[\"replaceby\"]:\n",
    "                        df = self.replaceByStandardDeviation(featureName, df)\n",
    "                    elif \"random\" in featureObj[\"replaceby\"]:\n",
    "                        df = self.replaceDateRandomly(featureName, df)\n",
    "        return df\n",
    "\n",
    "\n",
    "Feature_Transformations_Methods = {\n",
    "\n",
    "}\n",
    "\n",
    "\n",
    "class TransformationMain:\n",
    "    # TODO: change df argument in run with following\n",
    "    def run(transformationDF, spark, config):\n",
    "        configObj = json.loads(config)\n",
    "        featureData = configObj[\"FE\"]\n",
    "        transformationDF = CleanseData().replaceNullValues(featureData, transformationDF)\n",
    "        for transformation in featureData:\n",
    "            feature = transformation[\"feature\"]\n",
    "            if transformation[\"transformation\"] != '' and transformation[\"selected\"].lower() == \"true\" and not (feature.__contains__(\"_transform\")):\n",
    "                transformationDF = Feature_Transformations_Methods[\"%s\" % transformation[\"transformation\"]](\n",
    "                    transformationDF, transformation)\n",
    "\n",
    "        display(transformationDF.limit(2).toPandas())\n",
    "        return transformationDF\n"
   ]
  },
  {
   "cell_type": "markdown",
   "metadata": {},
   "source": [
    "**AUTOML FUNCTIONS**"
   ]
  },
  {
   "cell_type": "code",
   "execution_count": null,
   "metadata": {},
   "outputs": [],
   "source": [
    "from datatransformations import VectorAssembler\n",
    "import json\n",
    "from pyspark.ml.clustering import BisectingKMeans\n",
    "from pyspark.ml.feature import VectorAssembler\n",
    "\n",
    "\n",
    "def vectorAssemblerTransform(df, param):\n",
    "\n",
    "    dfReturn = df\n",
    "    outcol = param + \"_vector\"\n",
    "    assembler = VectorAssembler(inputCols=[param], outputCol=outcol)\n",
    "\n",
    "    dfReturn = assembler.transform(dfReturn)\n",
    "\n",
    "    return dfReturn\n",
    "\n",
    "\n",
    "def bkmeans(df, k=3):\n",
    "    list = df.columns\n",
    "    new_df = VectorAssembler.vectorAssemblerTransform(df, list)\n",
    "    bkmeans = BisectingKMeans(k=k)\n",
    "    model = bkmeans.fit(new_df.select('features'))\n",
    "    transformed = model.transform(new_df)\n",
    "    return transformed\n",
    "\n",
    "\n",
    "class Clustering:\n",
    "\n",
    "    def run(spark_DF, spark, config):\n",
    "        stage_attribute = json.loads(config)\n",
    "        stage_attribute['model']\n",
    "        bkmeans_obj = bkmeans(df=spark_DF)\n",
    "        [bkmeans_obj]\n"
   ]
  },
  {
   "cell_type": "markdown",
   "metadata": {},
   "source": [
    "**READING DATAFRAME**"
   ]
  },
  {
   "cell_type": "code",
   "execution_count": null,
   "metadata": {},
   "outputs": [],
   "source": [
    "from pyspark.sql import SparkSession\n",
    "spark = SparkSession.builder.getOrCreate()\n",
    "\n",
    "try: \n",
    "\tclusteringtest_DBFS = DBFSConnector.fetch([], {}, \"5eb0122b205c0278a02933f4\", spark, \"{'url': '/Demo/clustering/IrisTrain.csv', 'file_type': 'Delimeted', 'delimiter': ',', 'is_header': 'Use Header Line'}\")\n",
    "\n",
    "except Exception as ex: \n",
    "\tlogging.error(ex)\n"
   ]
  },
  {
   "cell_type": "markdown",
   "metadata": {},
   "source": [
    "**TRANSFORMING DATAFRAME**"
   ]
  },
  {
   "cell_type": "code",
   "execution_count": null,
   "metadata": {},
   "outputs": [],
   "source": [
    "try: \n",
    "\tclusteringtest_AutoFE = TransformationMain.run(clusteringtest_DBFS, spark,json.dumps( {\"FE\": [{\"transformationsData\": {}, \"feature\": \"SepalLengthCm\", \"type\": \"real\", \"selected\": \"True\", \"replaceby\": \"mean\", \"stats\": {\"count\": \"98\", \"mean\": \"5.78\", \"stddev\": \"0.78\", \"min\": \"4.4\", \"max\": \"7.7\", \"missing\": \"0\"}, \"transformation\": \"\"}, {\"transformationsData\": {}, \"feature\": \"SepalWidthCm\", \"type\": \"real\", \"selected\": \"True\", \"replaceby\": \"mean\", \"stats\": {\"count\": \"98\", \"mean\": \"3.06\", \"stddev\": \"0.47\", \"min\": \"2.0\", \"max\": \"4.4\", \"missing\": \"0\"}, \"transformation\": \"\"}, {\"transformationsData\": {}, \"feature\": \"PetalLengthCm\", \"type\": \"real\", \"selected\": \"True\", \"replaceby\": \"mean\", \"stats\": {\"count\": \"98\", \"mean\": \"3.68\", \"stddev\": \"1.78\", \"min\": \"1.0\", \"max\": \"6.9\", \"missing\": \"0\"}, \"transformation\": \"\"}, {\"transformationsData\": {}, \"feature\": \"PetalWidthCm\", \"type\": \"real\", \"selected\": \"True\", \"replaceby\": \"mean\", \"stats\": {\"count\": \"98\", \"mean\": \"1.18\", \"stddev\": \"0.78\", \"min\": \"0.1\", \"max\": \"2.5\", \"missing\": \"0\"}, \"transformation\": \"\"}]}))\n",
    "\n",
    "except Exception as ex: \n",
    "\tlogging.error(ex)\n"
   ]
  },
  {
   "cell_type": "markdown",
   "metadata": {},
   "source": [
    "**TRAIN MODEL**"
   ]
  },
  {
   "cell_type": "code",
   "execution_count": null,
   "metadata": {},
   "outputs": [],
   "source": [
    "try: \n",
    "\tclusteringtest_Cluster = Clustering.run(clusteringtest_AutoFE,spark,json.dumps( {\"autoClustering\": 1, \"defaultclusters\": 1, \"orignalfile\": \"/Demo/clustering/IrisTrain.csv\", \"distinct_column\": \"SepalWidthCm\", \"model\": \"Bisecting KMeans\", \"run_id\": \"a26de165cdde45ae9babc05f47c36e09\", \"model_id\": \"5eb0242f1bfdaec91f6d125d\"}))\n",
    "\n",
    "except Exception as ex: \n",
    "\tlogging.error(ex)\n"
   ]
  }
 ],
 "metadata": {},
 "nbformat": 4,
 "nbformat_minor": 4
}
